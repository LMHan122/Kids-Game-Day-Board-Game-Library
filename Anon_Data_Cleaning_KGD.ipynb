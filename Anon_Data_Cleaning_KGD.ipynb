{
 "cells": [
  {
   "cell_type": "markdown",
   "id": "109220aa",
   "metadata": {},
   "source": [
    "# Introduction to Data Cleaning in Jupyter Notebook\n",
    "\n",
    "Welcome to this Jupyter Notebook where we'll dive into the realm of data cleaning using Python. In this notebook, we'll be working with a CSV file that has undergone some initial cleaning steps in Google Sheets. Our goal here is to further refine and prepare the data for analysis through Python's powerful libraries.\n",
    "\n",
    "## Data Cleaning Steps Completed in Excel\n",
    "Downloaded and Prepared Data:\n",
    "\n",
    "### Downloaded a copy of \"FWGN Kids Game Day Volunteers March 16 2024.\"\n",
    "    Removed all sheets except for \"Game Check Out Sheet.\"\n",
    "    Renamed the file to \"Game List.\"\n",
    "\n",
    "### Reorganized Columns:\n",
    "    Added a new column named \"Copy.\"\n",
    "    Moved copy numbers from the \"Game Name\" column to the \"Copy\" column.\n",
    "\n",
    "### Corrected Column Names:\n",
    "    Used the \"KidsGameDayLibrary2024.pdf\" to correct column names.\n",
    "    Switched the column names \"Time Out\" and \"Time In\" to correspond to the times written on the form.\n",
    "\n",
    "### Filled Missing Data:\n",
    "    Manually filled in missing data based on the scanned copy of \"KidsGameDayLibrary2024.pdf.\"\n",
    "    If a game was clearly checked in or out but one of the fields was left empty, changed the time to be checked out for one minute.\n",
    "\n",
    "### Verified Game Names:\n",
    "    Verified the names of handwritten games using BoardGameGeek.com when possible.\n",
    "    \n",
    "### Handled Missing Names:\n",
    "    Added \"Guest\" to the name field when a name was missing."
   ]
  },
  {
   "cell_type": "code",
   "execution_count": 1,
   "id": "9c78ca3b",
   "metadata": {},
   "outputs": [],
   "source": [
    "#importing libraries\n",
    "import pandas as pd\n",
    "import numpy as np"
   ]
  },
  {
   "cell_type": "code",
   "execution_count": 3,
   "id": "b5cc4541",
   "metadata": {},
   "outputs": [],
   "source": [
    "#reading in data\n",
    "df = pd.read_csv('clean_data_anonymized.csv') #ananonymized version of the file "
   ]
  },
  {
   "cell_type": "code",
   "execution_count": null,
   "id": "0b1021a8",
   "metadata": {
    "scrolled": true
   },
   "outputs": [],
   "source": [
    "#exploring data to see what the imported file looks like\n",
    "df.head()"
   ]
  },
  {
   "cell_type": "code",
   "execution_count": null,
   "id": "8e6de4e3",
   "metadata": {},
   "outputs": [],
   "source": [
    "df.tail()"
   ]
  },
  {
   "cell_type": "code",
   "execution_count": null,
   "id": "6c414c97",
   "metadata": {},
   "outputs": [],
   "source": [
    "#checking the date types to see what needs to be changed\n",
    "df.info()"
   ]
  },
  {
   "cell_type": "code",
   "execution_count": 9,
   "id": "df84da16",
   "metadata": {},
   "outputs": [],
   "source": [
    "#adding the date of the event to the time columns\n",
    "#including a space after the date to simplify the concat that will happen in the future\n",
    "#creating date\n",
    "date = '2024-03-16 '"
   ]
  },
  {
   "cell_type": "code",
   "execution_count": 11,
   "id": "82badde9",
   "metadata": {},
   "outputs": [],
   "source": [
    "#for the 'Time In' column, if there is a 'Time In' value, adding the date before that value\n",
    "#this will make sure null values stay null while also setting up the column to correct the data type in the future\n",
    "df['Time In'] = df['Time In'].apply(lambda x: date + x if pd.notnull(x) else x)"
   ]
  },
  {
   "cell_type": "code",
   "execution_count": 13,
   "id": "689b7fcd",
   "metadata": {},
   "outputs": [],
   "source": [
    "#doing the same thing for the 'Time Out' column\n",
    "df['Time Out'] = df['Time Out'].apply(lambda x: date + x if pd.notnull(x) else x)"
   ]
  },
  {
   "cell_type": "code",
   "execution_count": null,
   "id": "91ea7413",
   "metadata": {},
   "outputs": [],
   "source": [
    "#verifing the new columns\n",
    "df.head()"
   ]
  },
  {
   "cell_type": "code",
   "execution_count": 15,
   "id": "58e2602e",
   "metadata": {},
   "outputs": [
    {
     "name": "stdout",
     "output_type": "stream",
     "text": [
      "<class 'pandas.core.frame.DataFrame'>\n",
      "RangeIndex: 123 entries, 0 to 122\n",
      "Data columns (total 6 columns):\n",
      " #   Column          Non-Null Count  Dtype  \n",
      "---  ------          --------------  -----  \n",
      " 0   Temp_ID_Number  123 non-null    int64  \n",
      " 1   Game Name       123 non-null    object \n",
      " 2   Copy            122 non-null    float64\n",
      " 3   Time Out        80 non-null     object \n",
      " 4   Time In         80 non-null     object \n",
      " 5   Name            80 non-null     object \n",
      "dtypes: float64(1), int64(1), object(4)\n",
      "memory usage: 5.9+ KB\n"
     ]
    }
   ],
   "source": [
    "#seeing if there are any value changes in data types and null counts\n",
    "df.info()"
   ]
  },
  {
   "cell_type": "code",
   "execution_count": 17,
   "id": "0034b1d6",
   "metadata": {},
   "outputs": [
    {
     "name": "stdout",
     "output_type": "stream",
     "text": [
      "<class 'pandas.core.series.Series'>\n",
      "RangeIndex: 123 entries, 0 to 122\n",
      "Series name: Copy\n",
      "Non-Null Count  Dtype  \n",
      "--------------  -----  \n",
      "122 non-null    float64\n",
      "dtypes: float64(1)\n",
      "memory usage: 1.1 KB\n"
     ]
    }
   ],
   "source": [
    "#investigating the 'Copy' column to prepare to change the data type to int\n",
    "df['Copy'].info()"
   ]
  },
  {
   "cell_type": "code",
   "execution_count": 19,
   "id": "3db567c5",
   "metadata": {},
   "outputs": [
    {
     "data": {
      "text/plain": [
       "Copy\n",
       "1.0    117\n",
       "2.0      4\n",
       "3.0      1\n",
       "Name: count, dtype: int64"
      ]
     },
     "execution_count": 19,
     "metadata": {},
     "output_type": "execute_result"
    }
   ],
   "source": [
    "#checking the values in the 'Copy' column\n",
    "df['Copy'].value_counts()"
   ]
  },
  {
   "cell_type": "code",
   "execution_count": 21,
   "id": "2ff18f04",
   "metadata": {},
   "outputs": [
    {
     "data": {
      "text/html": [
       "<div>\n",
       "<style scoped>\n",
       "    .dataframe tbody tr th:only-of-type {\n",
       "        vertical-align: middle;\n",
       "    }\n",
       "\n",
       "    .dataframe tbody tr th {\n",
       "        vertical-align: top;\n",
       "    }\n",
       "\n",
       "    .dataframe thead th {\n",
       "        text-align: right;\n",
       "    }\n",
       "</style>\n",
       "<table border=\"1\" class=\"dataframe\">\n",
       "  <thead>\n",
       "    <tr style=\"text-align: right;\">\n",
       "      <th></th>\n",
       "      <th>Temp_ID_Number</th>\n",
       "      <th>Game Name</th>\n",
       "      <th>Copy</th>\n",
       "      <th>Time Out</th>\n",
       "      <th>Time In</th>\n",
       "      <th>Name</th>\n",
       "    </tr>\n",
       "  </thead>\n",
       "  <tbody>\n",
       "    <tr>\n",
       "      <th>33</th>\n",
       "      <td>28</td>\n",
       "      <td>Go Fish</td>\n",
       "      <td>NaN</td>\n",
       "      <td>NaN</td>\n",
       "      <td>NaN</td>\n",
       "      <td>NaN</td>\n",
       "    </tr>\n",
       "  </tbody>\n",
       "</table>\n",
       "</div>"
      ],
      "text/plain": [
       "    Temp_ID_Number Game Name  Copy Time Out Time In Name\n",
       "33              28   Go Fish   NaN      NaN     NaN  NaN"
      ]
     },
     "execution_count": 21,
     "metadata": {},
     "output_type": "execute_result"
    }
   ],
   "source": [
    "#finding the record that has a null value for the copy#\n",
    "missing_mask = df['Copy'].isnull()\n",
    "df[missing_mask]"
   ]
  },
  {
   "cell_type": "code",
   "execution_count": 23,
   "id": "9b947368",
   "metadata": {},
   "outputs": [],
   "source": [
    "#correcting the 'Copy' number - Since there is only one copy of Go Fish in the lending library, this will be copy #1\n",
    "df.at[33, 'Copy'] = 1"
   ]
  },
  {
   "cell_type": "code",
   "execution_count": 25,
   "id": "e5c8b76a",
   "metadata": {},
   "outputs": [
    {
     "data": {
      "text/plain": [
       "Temp_ID_Number         28\n",
       "Game Name         Go Fish\n",
       "Copy                  1.0\n",
       "Time Out              NaN\n",
       "Time In               NaN\n",
       "Name                  NaN\n",
       "Name: 33, dtype: object"
      ]
     },
     "execution_count": 25,
     "metadata": {},
     "output_type": "execute_result"
    }
   ],
   "source": [
    "df.loc[33]"
   ]
  },
  {
   "cell_type": "code",
   "execution_count": 27,
   "id": "b00b5292",
   "metadata": {},
   "outputs": [],
   "source": [
    "#int would be a better data type for copy# since it will always be in whole numbers\n",
    "df['Copy'] = df['Copy'].astype(int)"
   ]
  },
  {
   "cell_type": "code",
   "execution_count": 29,
   "id": "d0e7c389",
   "metadata": {},
   "outputs": [
    {
     "data": {
      "text/plain": [
       "Index(['Temp_ID_Number', 'Game Name', 'Copy', 'Time Out', 'Time In', 'Name'], dtype='object')"
      ]
     },
     "execution_count": 29,
     "metadata": {},
     "output_type": "execute_result"
    }
   ],
   "source": [
    "#grabbing column names\n",
    "df.columns"
   ]
  },
  {
   "cell_type": "code",
   "execution_count": 31,
   "id": "73ee2b98",
   "metadata": {},
   "outputs": [],
   "source": [
    "#converting the 'Time Out' column to datetime \n",
    "df['Time Out'] = pd.to_datetime(df['Time Out'], format='%Y-%m-%d %H:%M')"
   ]
  },
  {
   "cell_type": "code",
   "execution_count": 33,
   "id": "0afd7983",
   "metadata": {},
   "outputs": [
    {
     "data": {
      "text/plain": [
       "array([nan, '2024-03-16 19:00', '2024-03-16 13:25', '2024-03-16 14:46',\n",
       "       '2024-03-16 16:15', '2024-03-16 12:50', '2024-03-16 16:30',\n",
       "       '2024-03-16 14:50', '2024-03-16 12:27', '2024-03-16 12:45',\n",
       "       '2024-03-16 13:05', '2024-03-16 13:55', '2024-03-16 17:15',\n",
       "       '2024-03-16 13:00', '2024-03-16 14:36', '2024-03-16 17:45',\n",
       "       '2024-03-16 13:40', '2024-03-16 12:12', '2024-03-16 14:30',\n",
       "       '2024-03-16 13:12', '2024-03-16 15:08', '2024-03-16 14:00',\n",
       "       '2024-03-16 14:28', '2024-03-16 12:04', '2024-03-16 14:31',\n",
       "       '2024-03-16 16:46', '2024-03-16 14:07', '2024-03-16 1600',\n",
       "       '2024-03-16 1300', '2024-03-16 14:22', '2024-03-16 13:10',\n",
       "       '2024-03-16 15:47', '2024-03-16 11:27', '2024-03-16 11:35',\n",
       "       '2024-03-16 17:20', '2024-03-16 10:57', '2024-03-16 14:12',\n",
       "       '2024-03-16 12:21', '2024-03-16 17:31', '2024-03-16 15:39',\n",
       "       '2024-03-16 15:18', '2024-03-16 17:43', '2024-03-16 14:57',\n",
       "       '2024-03-16 10:53', '2024-03-16 14:05', '2024-03-16 14:53',\n",
       "       '2024-03-16 14:10', '2024-03-16 16:01', '2024-03-16 14:15',\n",
       "       '2024-03-16 11:46', '2024-03-16 12:02', '2024-03-16 15:16',\n",
       "       '2024-03-16 14:37', '2024-03-16 12:14', '2024-03-16 11:13',\n",
       "       '2024-03-16 12:19', '2024-03-16 14:20', '2024-03-16 14:54',\n",
       "       '2024-03-16 15:53', '2024-03-16 14:14', '2024-03-16 14:38',\n",
       "       '2024-03-16 16:55', '2024-03-16 14:59', '2024-03-16 14:08',\n",
       "       '2024-03-16 11:54', '2024-03-16 15:15', '2024-03-16 15:54',\n",
       "       '2024-03-16 13:01'], dtype=object)"
      ]
     },
     "execution_count": 33,
     "metadata": {},
     "output_type": "execute_result"
    }
   ],
   "source": [
    "#exploring the 'Time In' column since the conversion didn't work\n",
    "df['Time In'].unique()"
   ]
  },
  {
   "cell_type": "code",
   "execution_count": 35,
   "id": "9cc2a1df",
   "metadata": {},
   "outputs": [
    {
     "data": {
      "text/html": [
       "<div>\n",
       "<style scoped>\n",
       "    .dataframe tbody tr th:only-of-type {\n",
       "        vertical-align: middle;\n",
       "    }\n",
       "\n",
       "    .dataframe tbody tr th {\n",
       "        vertical-align: top;\n",
       "    }\n",
       "\n",
       "    .dataframe thead th {\n",
       "        text-align: right;\n",
       "    }\n",
       "</style>\n",
       "<table border=\"1\" class=\"dataframe\">\n",
       "  <thead>\n",
       "    <tr style=\"text-align: right;\">\n",
       "      <th></th>\n",
       "      <th>Temp_ID_Number</th>\n",
       "      <th>Game Name</th>\n",
       "      <th>Copy</th>\n",
       "      <th>Time Out</th>\n",
       "      <th>Time In</th>\n",
       "      <th>Name</th>\n",
       "    </tr>\n",
       "  </thead>\n",
       "  <tbody>\n",
       "    <tr>\n",
       "      <th>48</th>\n",
       "      <td>39</td>\n",
       "      <td>King of Tokyo</td>\n",
       "      <td>1</td>\n",
       "      <td>2024-03-16 15:55:00</td>\n",
       "      <td>2024-03-16 1600</td>\n",
       "      <td>C Swanson</td>\n",
       "    </tr>\n",
       "  </tbody>\n",
       "</table>\n",
       "</div>"
      ],
      "text/plain": [
       "    Temp_ID_Number      Game Name  Copy            Time Out          Time In  \\\n",
       "48              39  King of Tokyo     1 2024-03-16 15:55:00  2024-03-16 1600   \n",
       "\n",
       "         Name  \n",
       "48  C Swanson  "
      ]
     },
     "execution_count": 35,
     "metadata": {},
     "output_type": "execute_result"
    }
   ],
   "source": [
    "#searching for the first incorrect time\n",
    "time_search = df['Time In'] == '2024-03-16 1600'\n",
    "df[time_search]"
   ]
  },
  {
   "cell_type": "code",
   "execution_count": 37,
   "id": "f44d1c84",
   "metadata": {},
   "outputs": [],
   "source": [
    "#correcting the time\n",
    "df.at[48, 'Time In'] = '2024-03-16 16:00'"
   ]
  },
  {
   "cell_type": "code",
   "execution_count": 39,
   "id": "54027a47",
   "metadata": {},
   "outputs": [
    {
     "data": {
      "text/html": [
       "<div>\n",
       "<style scoped>\n",
       "    .dataframe tbody tr th:only-of-type {\n",
       "        vertical-align: middle;\n",
       "    }\n",
       "\n",
       "    .dataframe tbody tr th {\n",
       "        vertical-align: top;\n",
       "    }\n",
       "\n",
       "    .dataframe thead th {\n",
       "        text-align: right;\n",
       "    }\n",
       "</style>\n",
       "<table border=\"1\" class=\"dataframe\">\n",
       "  <thead>\n",
       "    <tr style=\"text-align: right;\">\n",
       "      <th></th>\n",
       "      <th>Temp_ID_Number</th>\n",
       "      <th>Game Name</th>\n",
       "      <th>Copy</th>\n",
       "      <th>Time Out</th>\n",
       "      <th>Time In</th>\n",
       "      <th>Name</th>\n",
       "    </tr>\n",
       "  </thead>\n",
       "  <tbody>\n",
       "    <tr>\n",
       "      <th>54</th>\n",
       "      <td>45</td>\n",
       "      <td>Mancala</td>\n",
       "      <td>1</td>\n",
       "      <td>2024-03-16 12:05:00</td>\n",
       "      <td>2024-03-16 1300</td>\n",
       "      <td>Elisa Randall</td>\n",
       "    </tr>\n",
       "  </tbody>\n",
       "</table>\n",
       "</div>"
      ],
      "text/plain": [
       "    Temp_ID_Number Game Name  Copy            Time Out          Time In  \\\n",
       "54              45   Mancala     1 2024-03-16 12:05:00  2024-03-16 1300   \n",
       "\n",
       "             Name  \n",
       "54  Elisa Randall  "
      ]
     },
     "execution_count": 39,
     "metadata": {},
     "output_type": "execute_result"
    }
   ],
   "source": [
    "#searching for the next incorrect time\n",
    "time_search = df['Time In'] == '2024-03-16 1300'\n",
    "df[time_search]"
   ]
  },
  {
   "cell_type": "code",
   "execution_count": 41,
   "id": "1b02ba2c",
   "metadata": {},
   "outputs": [],
   "source": [
    "#changing it to the correct time\n",
    "df.at[54, 'Time In'] = '2024-03-16 13:00'"
   ]
  },
  {
   "cell_type": "code",
   "execution_count": 43,
   "id": "d52a7e86",
   "metadata": {},
   "outputs": [],
   "source": [
    "#now updating the 'Time In' column to the correct data type\n",
    "df['Time In'] = pd.to_datetime(df['Time In'], format='%Y-%m-%d %H:%M')"
   ]
  },
  {
   "cell_type": "code",
   "execution_count": 45,
   "id": "8a6cc05a",
   "metadata": {},
   "outputs": [
    {
     "name": "stdout",
     "output_type": "stream",
     "text": [
      "<class 'pandas.core.frame.DataFrame'>\n",
      "RangeIndex: 123 entries, 0 to 122\n",
      "Data columns (total 6 columns):\n",
      " #   Column          Non-Null Count  Dtype         \n",
      "---  ------          --------------  -----         \n",
      " 0   Temp_ID_Number  123 non-null    int64         \n",
      " 1   Game Name       123 non-null    object        \n",
      " 2   Copy            123 non-null    int32         \n",
      " 3   Time Out        80 non-null     datetime64[ns]\n",
      " 4   Time In         80 non-null     datetime64[ns]\n",
      " 5   Name            80 non-null     object        \n",
      "dtypes: datetime64[ns](2), int32(1), int64(1), object(2)\n",
      "memory usage: 5.4+ KB\n"
     ]
    }
   ],
   "source": [
    "df.info()"
   ]
  },
  {
   "cell_type": "code",
   "execution_count": 47,
   "id": "a653a313",
   "metadata": {},
   "outputs": [],
   "source": [
    "#checking the values for the Name column\n",
    "names = sorted(df['Name'].dropna().unique())"
   ]
  },
  {
   "cell_type": "code",
   "execution_count": null,
   "id": "876a00fa",
   "metadata": {},
   "outputs": [],
   "source": [
    "#checking the names to see if any of them need to be corrected\n",
    "names"
   ]
  },
  {
   "cell_type": "code",
   "execution_count": 49,
   "id": "4ee8172f",
   "metadata": {},
   "outputs": [
    {
     "data": {
      "text/plain": [
       "47"
      ]
     },
     "execution_count": 49,
     "metadata": {},
     "output_type": "execute_result"
    }
   ],
   "source": [
    "len(names)"
   ]
  },
  {
   "cell_type": "code",
   "execution_count": 51,
   "id": "e3ae0513",
   "metadata": {},
   "outputs": [],
   "source": [
    "#creating a list of names to be fixed\n",
    "#for PII issues, changed all the name values\n",
    "fix_names = ['Anon1', 'Anon2', 'Anon3', 'Anon4', 'Anon5', 'Anon6', 'Anon7',\n",
    "            'Anon8', 'Anon9']"
   ]
  },
  {
   "cell_type": "code",
   "execution_count": 53,
   "id": "e187228a",
   "metadata": {},
   "outputs": [],
   "source": [
    "#all the rows that need to be corrected\n",
    "f_rows = [row for index, row in df.iterrows() if row['Name'] in fix_names]"
   ]
  },
  {
   "cell_type": "code",
   "execution_count": null,
   "id": "f72a5163",
   "metadata": {
    "scrolled": true
   },
   "outputs": [],
   "source": [
    "filtered_df = pd.DataFrame(f_rows)\n",
    "filtered_df"
   ]
  },
  {
   "cell_type": "code",
   "execution_count": 57,
   "id": "91e65f1c",
   "metadata": {},
   "outputs": [],
   "source": [
    "#correcting values\n",
    "df.at[11, 'Name'] = 'Anon1'\n",
    "df.at[25, 'Name'] = 'Anon2'\n",
    "df.at[13, 'Name'] = 'Anon3'\n",
    "df.at[48, 'Name'] = 'Anon4'\n",
    "df.at[22, 'Name'] = 'Anon5'\n",
    "df.at[45, 'Name'] = 'Anon6'\n",
    "df.at[43, 'Name'] = 'Anon7'\n",
    "df.at[75, 'Name'] = 'Anon8'\n",
    "df.at[117, 'Name'] = 'Anon9'"
   ]
  },
  {
   "cell_type": "code",
   "execution_count": 59,
   "id": "c15099e2",
   "metadata": {},
   "outputs": [
    {
     "data": {
      "text/plain": [
       "38"
      ]
     },
     "execution_count": 59,
     "metadata": {},
     "output_type": "execute_result"
    }
   ],
   "source": [
    "#checking names\n",
    "names = sorted(df['Name'].dropna().unique())\n",
    "len(names)"
   ]
  },
  {
   "cell_type": "code",
   "execution_count": null,
   "id": "233c54e0",
   "metadata": {},
   "outputs": [],
   "source": [
    "names"
   ]
  },
  {
   "cell_type": "code",
   "execution_count": null,
   "id": "f4acfc20",
   "metadata": {},
   "outputs": [],
   "source": [
    "df.head()"
   ]
  },
  {
   "cell_type": "code",
   "execution_count": 63,
   "id": "bc154817",
   "metadata": {},
   "outputs": [],
   "source": [
    "#dropping column that was used in excel only\n",
    "df.drop(columns=['Temp_ID_Number'], inplace=True)"
   ]
  },
  {
   "cell_type": "code",
   "execution_count": null,
   "id": "06e5b443",
   "metadata": {},
   "outputs": [],
   "source": [
    "#downloading a copy of the clean data for tableau\n",
    "df.to_csv('clean_data.csv', index=True)"
   ]
  },
  {
   "cell_type": "code",
   "execution_count": null,
   "id": "4225a2d3",
   "metadata": {},
   "outputs": [],
   "source": []
  }
 ],
 "metadata": {
  "kernelspec": {
   "display_name": "Python 3 (ipykernel)",
   "language": "python",
   "name": "python3"
  },
  "language_info": {
   "codemirror_mode": {
    "name": "ipython",
    "version": 3
   },
   "file_extension": ".py",
   "mimetype": "text/x-python",
   "name": "python",
   "nbconvert_exporter": "python",
   "pygments_lexer": "ipython3",
   "version": "3.10.14"
  }
 },
 "nbformat": 4,
 "nbformat_minor": 5
}
